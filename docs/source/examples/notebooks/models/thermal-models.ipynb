{
  "cells": [
    {
      "cell_type": "markdown",
      "metadata": {
        "id": "HEPgCqS6zF21"
      },
      "source": [
        "# Thermal models\n",
        "\n",
        "There are a number of thermal submodels available in PyBaMM. In this notebook we give details of each of the models, and highlight any relevant parameters. At present PyBaMM includes an isothermal and a lumped thermal model, both of which can be used with any cell geometry, as well as a 1D thermal model which accounts for the through-cell variation in temperature in a pouch cell, and \"1+1D\" and \"2+1D\" pouch cell models which assumed the temperature is uniform through the thickness of the pouch, but accounts for variations in temperature in the remaining dimensions. Here we give the governing equations for each model (except the isothermal model, which just sets the temperature to be equal to to the parameter \"Ambient temperature [K]\").\n",
        "\n",
        "A more comprehensive review of the pouch cell models, including how to properly compute the effective cooling terms, can be found in references [4] and [6] at the end of this notebook."
      ]
    },
    {
      "cell_type": "code",
      "execution_count": 19,
      "metadata": {
        "id": "SpC1TVn3zF23"
      },
      "outputs": [],
      "source": [
        "%pip install \"pybamm[plot,cite]\" -q    # install PyBaMM if it is not installed\n",
        "import pybamm"
      ]
    },
    {
      "cell_type": "markdown",
      "metadata": {
        "id": "nhqQxZHdzF23"
      },
      "source": [
        "## Lumped model\n",
        "\n",
        "The lumped thermal model solves the following ordinary differential equation for the average temperature, given here in dimensional terms,\n",
        "\n",
        "$$\n",
        "\\rho_{eff} \\frac{\\partial T}{\\partial t} = \\bar{Q} - \\frac{hA}{V}(T-T_{\\infty}),\n",
        "$$\n",
        "\n",
        "where $\\rho_{eff}$ is effective volumetric heat capacity, $T$ is the temperature, $t$ is time, $\\bar{Q}$ is the averaged heat source term, $h$ is the heat transfer coefficient, $A$ is the surface area (available for cooling), $V$ is the cell volume, and $T_{\\infty}$ is the ambient temperature. An initial temperature $T_0$ must be prescribed.\n",
        "\n",
        "\n",
        "The effective volumetric heat capacity is computed as\n",
        "\n",
        "$$\n",
        "\\rho_{eff} = \\frac{\\sum_k \\rho_k c_{p,k} L_k}{\\sum_k L_k},\n",
        "$$\n",
        "\n",
        "where $\\rho_k$ is the density, $c_{p,k}$ is the specific heat, and $L_k$ is the thickness of each component. The subscript $k \\in \\{cn, n, s, p, cp\\}$ is used to refer to the components negative current collector, negative electrode, separator, positive electrode, and positive current collector.\n",
        "\n",
        "The heat source term accounts for Ohmic heating $Q_{Ohm,k}$ due to resistance in the solid and electrolyte, irreverisble heating due to electrochemical reactions $Q_{rxn,k}$, reversible heating due to entropic changes in the the electrode $Q_{rev,k}$, and heating due to contact resistance $Q_{cr}$:\n",
        "\n",
        "$$\n",
        "Q = Q_{Ohm,k}+Q_{rxn,k}+Q_{rev,k}+Q_{cr},\n",
        "$$\n",
        "\n",
        "with\n",
        "\n",
        "$$\n",
        "Q_{Ohm,k} = -i_k \\nabla \\phi_k, \\quad Q_{rxn,k} = a_k j_k \\eta_k, \\quad Q_{rev,k} = a_k j_k T_k \\frac{\\partial U}{\\partial T} \\bigg|_{T=T_{\\infty}}, Q_{cr} = \\frac{R_{cr}}{V_{cell}}i_k^2.\n",
        "$$\n",
        "\n",
        "Here $i_k$ is the current, $\\phi_k$ the potential, $a_k$ the surface area to volume ratio, $j_k$ the interfacial current density, $\\eta_k$ the overpotential, $U$ the open-circuit potential, $R_{cr}$ is the contact resistance, and $V_{cell}$ is the total cell volume. The averaged heat source term $\\bar{Q}$ is computed by taking the volume-average of $Q$.\n",
        "\n",
        "\n"
      ]
    },
    {
      "cell_type": "markdown",
      "metadata": {
        "id": "owArSsBrzF24"
      },
      "source": [
        "When using the option `{\"cell geometry\": \"arbitrary\"}` the relevant parameters to specify the cooling conditions are:  \n",
        "\n",
        "\"Total heat transfer coefficient [W.m-2.K-1]\"  \n",
        "\"Cell cooling surface area [m2]\"  \n",
        "\"Cell volume [m3]\"\n",
        "\n",
        "which correspond directly to the parameters $h$, $A$ and $V$ in the governing equation.\n",
        "\n",
        "When using the option `{\"cell geometry\": \"pouch\"}` the parameter $A$ and $V$ are computed automatically from the pouch dimensions, assuming a single-layer pouch cell, i.e. $A$ is the total surface area of a single-layer pouch cell and $V$ is the volume. The parameter $h$ is still set by the \"Total heat transfer coefficient [W.m-2.K-1]\" parameter.\n",
        "\n",
        "When using the option `{\"contact resistance\": \"true\"}` the parameter \"Contact resistance [Ohm]\" must be specified to calculate the heating from contact resistance, which corresponds to $R_{cr}$. \"Cell volume [m3]\" is $V_{cell}$ within the governing equation. The default lumped model option is `{\"contact resistance\": \"false\"}`.\n",
        "\n",
        "The lumped thermal option can be selected as follows\n"
      ]
    },
    {
      "cell_type": "code",
      "execution_count": 20,
      "metadata": {
        "id": "HzZRCCnnzF24"
      },
      "outputs": [],
      "source": [
        "options = {\"cell geometry\": \"arbitrary\", \"thermal\": \"lumped\"}\n",
        "arbitrary_lumped_model = pybamm.lithium_ion.DFN(options)\n",
        "# OR\n",
        "options = {\"cell geometry\": \"pouch\", \"thermal\": \"lumped\"}\n",
        "pouch_lumped_model = pybamm.lithium_ion.DFN(options)"
      ]
    },
    {
      "cell_type": "markdown",
      "metadata": {
        "id": "DWr1sgn-zF24"
      },
      "source": [
        "If no cell geometry is specified, the \"arbitrary\" cell geometry is used by default"
      ]
    },
    {
      "cell_type": "code",
      "execution_count": 21,
      "metadata": {
        "id": "8vmSn1cNzF24",
        "outputId": "e7af7f1a-3072-4d50-9e9d-d85f51c7c402",
        "colab": {
          "base_uri": "https://localhost:8080/"
        }
      },
      "outputs": [
        {
          "output_type": "stream",
          "name": "stdout",
          "text": [
            "Cell geometry: arbitrary\n"
          ]
        }
      ],
      "source": [
        "options = {\"thermal\": \"lumped\"}\n",
        "model = pybamm.lithium_ion.DFN(options)\n",
        "print(\"Cell geometry:\", model.options[\"cell geometry\"])"
      ]
    },
    {
      "cell_type": "markdown",
      "metadata": {
        "id": "VZkCouVVzF24"
      },
      "source": [
        "The contact resistance option can be turned on via the following"
      ]
    },
    {
      "cell_type": "code",
      "execution_count": 22,
      "metadata": {
        "id": "5Av5mPCTzF24"
      },
      "outputs": [],
      "source": [
        "options = {\"thermal\": \"lumped\", \"contact resistance\": \"true\"}\n",
        "model = pybamm.lithium_ion.DFN(options)"
      ]
    },
    {
      "cell_type": "markdown",
      "metadata": {
        "id": "RifRvGLszF24"
      },
      "source": [
        "The default option for the lumped model does not include contact resistance."
      ]
    },
    {
      "cell_type": "code",
      "execution_count": 23,
      "metadata": {
        "id": "IIIcOq7UzF24",
        "outputId": "3fd8dcd6-7bcb-458b-c715-905f02398e8c",
        "colab": {
          "base_uri": "https://localhost:8080/"
        }
      },
      "outputs": [
        {
          "output_type": "stream",
          "name": "stdout",
          "text": [
            "contact resistance: false\n"
          ]
        }
      ],
      "source": [
        "options = {\"thermal\": \"lumped\"}\n",
        "model = pybamm.lithium_ion.DFN(options)\n",
        "print(\"contact resistance:\", model.options[\"contact resistance\"])"
      ]
    },
    {
      "cell_type": "markdown",
      "metadata": {
        "id": "rNZjcovRzF25"
      },
      "source": [
        "## Pouch cell models"
      ]
    },
    {
      "cell_type": "markdown",
      "metadata": {
        "id": "1lYOpm3VzF25"
      },
      "source": [
        "### 1D (through-cell) model\n",
        "\n",
        "The 1D model solves for $T(x,t)$, capturing variations through the thickness of the cell, but ignoring variations in the other dimensions. The temperature is found as the solution of a partial differential equation, given here in dimensional terms\n",
        "\n",
        "$$\\rho_k c_{p,k} \\frac{\\partial T}{\\partial t} = \\lambda_k \\nabla^2 T + Q(x,t) - Q_{cool}(x,t)$$\n",
        "\n",
        "with boundary conditions\n",
        "\n",
        "$$ -\\lambda_{cn} \\frac{\\partial T}{\\partial x}\\bigg|_{x=0} = h_{cn}(T_{\\infty} - T) \\quad -\\lambda_{cp} \\frac{\\partial T}{\\partial x}\\bigg|_{x=1} = h_{cp}(T-T_{\\infty}),$$\n",
        "\n",
        "and initial condition\n",
        "\n",
        "$$ T\\big|_{t=0} = T_0.$$\n",
        "\n",
        "Here $\\lambda_k$ is the thermal conductivity of component $k$, and the heat transfer coefficients $h_{cn}$ and $h_{cp}$ correspond to heat transfer at the large surface of the pouch on the side of the negative current collector, heat transfer at the large surface of the pouch on the side of the positive current collector, respectively. The heat source term $Q$ is as described in the section on lumped models. The term $Q_cool$ accounts for additional heat losses due to heat transfer at the sides of the pouch, as well as the tabs. This term is computed automatically by PyBaMM based on the cell geometry and heat transfer coefficients on the edges and tabs of the cell.\n",
        "\n",
        "The relevant heat transfer parameters are:\n",
        "\"Negative current collector surface heat transfer coefficient [W.m-2.K-1]\"\n",
        "\"Positive current collector surface heat transfer coefficient [W.m-2.K-1]\"\n",
        "\"Negative tab heat transfer coefficient [W.m-2.K-1]\"\n",
        "\"Positive tab heat transfer coefficient [W.m-2.K-1]\"\n",
        "\"Edge heat transfer coefficient [W.m-2.K-1]\"\n",
        "\n",
        "The 1D model is termed \"x-full\" (since it fully accounts for variation in the x direction) and can be selected as follows\n"
      ]
    },
    {
      "cell_type": "code",
      "execution_count": 24,
      "metadata": {
        "id": "hNUmIhxTzF25"
      },
      "outputs": [],
      "source": [
        "options = {\"thermal\": \"x-full\"}\n",
        "model = pybamm.lithium_ion.DFN(options)"
      ]
    },
    {
      "cell_type": "markdown",
      "metadata": {
        "id": "NmMQq174zF25"
      },
      "source": [
        "## Higher dimensional pouch cell models\n",
        "\n",
        "These pouch cell thermal models ignore any variation in temperature through the thickness of the cell (x direction), and solve for $T(y,z,t)$. It is therefore referred to as an \"x-lumped\" model. The temperature is found as the solution of a partial differential equation, given here in dimensional terms,\n",
        "\n",
        "$$\n",
        "\\rho_{eff} \\frac{\\partial T}{\\partial t} = \\lambda_{eff} \\nabla_\\perp^2T + \\bar{Q} - \\frac{(h_{cn}+h_{cp})A}{V}(T-T_{\\infty}),\n",
        "$$\n",
        "\n",
        "along with boundary conditions\n",
        "\n",
        "$$\n",
        "-\\lambda_{eff} \\nabla_\\perp T \\cdot \\boldsymbol{n} = \\frac{L_{cn}h_{cn} + (L_n+L_s+L_p+L_{cp})h_{edge}}{L_{cn}+L_n+L_s+L_p+L_{cp}}(T-T_\\infty),\n",
        "$$\n",
        "\n",
        "at the negative tab,\n",
        "\n",
        "$$\n",
        "-\\lambda_{eff} \\nabla_\\perp T \\cdot \\boldsymbol{n} = \\frac{(L_{cn}+L_n+L_s+L_p)h_{edge}+L_{cp}h_{cp}}{L_{cn}+L_n+L_s+L_p+L_{cp}}(T-T_\\infty),\n",
        "$$\n",
        "\n",
        "at the positive tab, and\n",
        "\n",
        "$$\n",
        "-\\lambda_{eff} \\nabla_\\perp T \\cdot \\boldsymbol{n} = h_{edge}(T-T_\\infty),\n",
        "$$\n",
        "\n",
        "elsewhere. Again, an initial temperature $T_0$ must be prescribed.\n",
        "\n",
        "Here the heat source term is averaged in the x direction so that $\\bar{Q}=\\bar{Q}(y,z)$. The parameter $\\lambda_{eff}$ is the effective thermal conductivity, computed as\n",
        "\n",
        "$$\n",
        "\\lambda_{eff} = \\frac{\\sum_k \\lambda_k L_k}{\\sum_k L_k}.\n",
        "$$\n",
        "\n",
        "The heat transfer coefficients $h_{cn}$, $h_{cp}$ and $h_{egde}$ correspond to heat transfer at the large surface of the pouch on the side of the negative current collector, heat transfer at the large surface of the pouch on the side of the positive current collector, and  heat transfer at the remaining, respectively.\n",
        "\n",
        "The relevant heat transfer parameters are:\n",
        "\"Negative current collector surface heat transfer coefficient [W.m-2.K-1]\"\n",
        "\"Positive current collector surface heat transfer coefficient [W.m-2.K-1]\"\n",
        "\"Negative tab heat transfer coefficient [W.m-2.K-1]\"\n",
        "\"Positive tab heat transfer coefficient [W.m-2.K-1]\"\n",
        "\"Edge heat transfer coefficient [W.m-2.K-1]\"\n",
        "\n",
        "The \"2+1D\" model can be selected as follows"
      ]
    },
    {
      "cell_type": "code",
      "execution_count": 25,
      "metadata": {
        "id": "pa7O3be8zF25"
      },
      "outputs": [],
      "source": [
        "options = {\n",
        "    \"current collector\": \"potential pair\",\n",
        "    \"dimensionality\": 2,\n",
        "    \"thermal\": \"x-lumped\",\n",
        "}\n",
        "model = pybamm.lithium_ion.DFN(options)"
      ]
    },
    {
      "cell_type": "markdown",
      "metadata": {
        "id": "6LhB0JVAzF25"
      },
      "source": [
        "# Model usage"
      ]
    },
    {
      "cell_type": "markdown",
      "metadata": {
        "id": "f5pL-b2AzF25"
      },
      "source": [
        "Here we compare the \"full\" one-dimensional model with the lumped model for a pouch cell. We first set up our models, passing the relevant options, and then show how to adjust the parameters to so that the lumped and full models give the same behaviour"
      ]
    },
    {
      "cell_type": "code",
      "execution_count": 26,
      "metadata": {
        "id": "60Nu_ze1zF25"
      },
      "outputs": [],
      "source": [
        "full_thermal_model = pybamm.lithium_ion.SPMe(\n",
        "    {\"thermal\": \"x-full\"}, name=\"full thermal model\"\n",
        ")\n",
        "lumped_thermal_model = pybamm.lithium_ion.SPMe(\n",
        "    {\"thermal\": \"lumped\"}, name=\"lumped thermal model\"\n",
        ")\n",
        "models = [full_thermal_model, lumped_thermal_model]"
      ]
    },
    {
      "cell_type": "markdown",
      "metadata": {
        "id": "axG0avoKzF25"
      },
      "source": [
        "We then pick our parameter set"
      ]
    },
    {
      "cell_type": "code",
      "execution_count": 27,
      "metadata": {
        "id": "cYggR3GJzF25"
      },
      "outputs": [],
      "source": [
        "parameter_values = pybamm.ParameterValues(\"Marquis2019\")"
      ]
    },
    {
      "cell_type": "markdown",
      "metadata": {
        "id": "Jtx9RK4bzF25"
      },
      "source": [
        "For the \"full\" model we use a heat transfer coefficient of $5\\,  \\text{Wm}^{-2}\\text{K}^{-1}$ on the large surfaces of the pouch and zero heat transfer coefficient on the tabs and edges"
      ]
    },
    {
      "cell_type": "code",
      "execution_count": 37,
      "metadata": {
        "id": "eTTK56xDzF25"
      },
      "outputs": [],
      "source": [
        "full_params = parameter_values.copy()\n",
        "full_params.update(\n",
        "    {\n",
        "        \"Negative current collector\"\n",
        "        + \" surface heat transfer coefficient [W.m-2.K-1]\": 15,\n",
        "        \"Positive current collector\"\n",
        "        + \" surface heat transfer coefficient [W.m-2.K-1]\": 5,\n",
        "        \"Negative tab heat transfer coefficient [W.m-2.K-1]\": 0,\n",
        "        \"Positive tab heat transfer coefficient [W.m-2.K-1]\": 0,\n",
        "        \"Edge heat transfer coefficient [W.m-2.K-1]\": 0,\n",
        "    }\n",
        ")"
      ]
    },
    {
      "cell_type": "markdown",
      "metadata": {
        "id": "D43DrYR5zF25"
      },
      "source": [
        "For the lumped model we set the \"Total heat transfer coefficient [W.m-2.K-1]\"\n",
        "parameter as well as the \"Cell cooling surface area [m2]\" parameter. Since the \"full\"\n",
        "model only accounts for cooling from the large surfaces of the pouch, we set the\n",
        "\"Surface area for cooling\" parameter to the area of the large surfaces of the pouch,\n",
        "and the total heat transfer coefficient to $5\\,  \\text{Wm}^{-2}\\text{K}^{-1}$"
      ]
    },
    {
      "cell_type": "code",
      "execution_count": 38,
      "metadata": {
        "id": "GyIqkpG8zF25"
      },
      "outputs": [],
      "source": [
        "A = parameter_values[\"Electrode width [m]\"] * parameter_values[\"Electrode height [m]\"]\n",
        "lumped_params = parameter_values.copy()\n",
        "lumped_params.update(\n",
        "    {\n",
        "        \"Total heat transfer coefficient [W.m-2.K-1]\": 5,\n",
        "        \"Cell cooling surface area [m2]\": 2 * A,\n",
        "    }\n",
        ")"
      ]
    },
    {
      "cell_type": "markdown",
      "metadata": {
        "id": "4n1HeqSrzF25"
      },
      "source": [
        "Let's run simulations with both options and compare the results. For demonstration purposes we'll increase the current to amplify the thermal effects"
      ]
    },
    {
      "cell_type": "code",
      "execution_count": 39,
      "metadata": {
        "id": "Zjen_QtuzF25",
        "outputId": "3d16f183-aba8-4038-9b44-4e5e2e0812e9",
        "colab": {
          "base_uri": "https://localhost:8080/",
          "height": 1000,
          "referenced_widgets": [
            "b31799377ca247fcacae57bfc9df0cfd",
            "9b143dd986a0440193d7a8b283d8aa74",
            "e335d08d2d9e4455893e1047cf288d6d",
            "228ae4aa13ca48938b3bf130c5482186",
            "b0acf1dd82674bddbadd61fb9c7fb121",
            "29e9e75f995045c7b3162aeff469cf5a",
            "159f4d3f6b9b409a93f3d48b28c9bd41",
            "820020ff9fad4779a44d412992a5f949",
            "df6bb940ef9248f4a586dd142ac8e9fb",
            "5a098b22561e4c15b8a16530241c843b",
            "5e4d261cc9474771809545e99b5418c6",
            "82ac59318d4345d595f6de74140e0a26",
            "a528f615c8fd4897b8bdd8857ec8f0c3",
            "8e891aacbf2f4f36bfd65ae5b40a87fc"
          ]
        }
      },
      "outputs": [
        {
          "output_type": "display_data",
          "data": {
            "text/plain": [
              "interactive(children=(FloatSlider(value=0.0, description='t', max=664.1787049633052, step=6.641787049633052), …"
            ],
            "application/vnd.jupyter.widget-view+json": {
              "version_major": 2,
              "version_minor": 0,
              "model_id": "b31799377ca247fcacae57bfc9df0cfd"
            }
          },
          "metadata": {}
        },
        {
          "output_type": "display_data",
          "data": {
            "text/plain": [
              "interactive(children=(FloatSlider(value=0.0, description='t', max=664.1787049633052, step=6.641787049633052), …"
            ],
            "application/vnd.jupyter.widget-view+json": {
              "version_major": 2,
              "version_minor": 0,
              "model_id": "820020ff9fad4779a44d412992a5f949"
            }
          },
          "metadata": {}
        },
        {
          "output_type": "execute_result",
          "data": {
            "text/plain": [
              "<pybamm.plotting.quick_plot.QuickPlot at 0x7c31fd342e10>"
            ]
          },
          "metadata": {},
          "execution_count": 39
        }
      ],
      "source": [
        "params = [full_params, lumped_params]\n",
        "# loop over the models and solve\n",
        "sols = []\n",
        "for model, param in zip(models, params, strict=False):\n",
        "    param[\"Current function [A]\"] = 5 * 0.68\n",
        "    sim = pybamm.Simulation(model, parameter_values=param)\n",
        "    sim.solve([0, 3600])\n",
        "    sols.append(sim.solution)\n",
        "\n",
        "\n",
        "# plot\n",
        "output_variables = [\n",
        "    \"Voltage [V]\",\n",
        "    \"X-averaged cell temperature [K]\",\n",
        "    \"Cell temperature [K]\",\n",
        "]\n",
        "pybamm.dynamic_plot(sols, output_variables)\n",
        "\n",
        "# plot the results\n",
        "pybamm.dynamic_plot(\n",
        "    sols,\n",
        "    [\n",
        "        \"Volume-averaged cell temperature [K]\",\n",
        "        \"Volume-averaged total heating [W.m-3]\",\n",
        "        \"Current [A]\",\n",
        "        \"Voltage [V]\",\n",
        "    ],\n",
        ")"
      ]
    },
    {
      "cell_type": "markdown",
      "metadata": {
        "id": "49lPPwwozF25"
      },
      "source": [
        "For the lumped model, we can compare how the contact resistance affects the heating. To do so, we must set the `\"contact resistance\"` option to `\"true\"` and update the `\"Contact resistance [Ohm]\"` parameter."
      ]
    },
    {
      "cell_type": "code",
      "execution_count": 40,
      "metadata": {
        "id": "tAccUbgIzF25"
      },
      "outputs": [],
      "source": [
        "model_no_contact_resistance = pybamm.lithium_ion.SPMe(\n",
        "    {\"cell geometry\": \"arbitrary\", \"thermal\": \"lumped\", \"contact resistance\": \"false\"},\n",
        "    name=\"lumped thermal model\",\n",
        ")\n",
        "model_contact_resistance = pybamm.lithium_ion.SPMe(\n",
        "    {\"cell geometry\": \"arbitrary\", \"thermal\": \"lumped\", \"contact resistance\": \"true\"},\n",
        "    name=\"lumped thermal model with contact resistance\",\n",
        ")\n",
        "models = [model_no_contact_resistance, model_contact_resistance]"
      ]
    },
    {
      "cell_type": "markdown",
      "metadata": {
        "id": "ppRZC_XXzF26"
      },
      "source": [
        "We then choose a parameter set."
      ]
    },
    {
      "cell_type": "code",
      "execution_count": 41,
      "metadata": {
        "id": "4SXCAwMCzF26"
      },
      "outputs": [],
      "source": [
        "parameter_values = pybamm.ParameterValues(\"Marquis2019\")\n",
        "lumped_params = parameter_values.copy()\n",
        "lumped_params_contact_resistance = parameter_values.copy()"
      ]
    },
    {
      "cell_type": "markdown",
      "metadata": {
        "id": "fRRnL4nszF26"
      },
      "source": [
        "For the contact resistance model, we must specify a contact resistance greater than zero. The default is zero."
      ]
    },
    {
      "cell_type": "code",
      "execution_count": 45,
      "metadata": {
        "id": "0nHIoet7zF26"
      },
      "outputs": [],
      "source": [
        "lumped_params_contact_resistance.update(\n",
        "    {\n",
        "        \"Contact resistance [Ohm]\": 0.5,\n",
        "    }\n",
        ")"
      ]
    },
    {
      "cell_type": "markdown",
      "metadata": {
        "id": "inqrLimBzF26"
      },
      "source": [
        "The models and parameters are then used to solve for a 1C discharge."
      ]
    },
    {
      "cell_type": "code",
      "execution_count": 46,
      "metadata": {
        "id": "v-Sh_s9qzF26"
      },
      "outputs": [],
      "source": [
        "params = [lumped_params, lumped_params_contact_resistance]\n",
        "sols = []\n",
        "for model, param in zip(models, params, strict=False):\n",
        "    sim = pybamm.Simulation(model, parameter_values=param)\n",
        "    sim.solve([0, 3600])\n",
        "    sols.append(sim.solution)"
      ]
    },
    {
      "cell_type": "markdown",
      "metadata": {
        "id": "pOSx_59UzF26"
      },
      "source": [
        "We can then compare the voltage and cell temperature and see the impact of the contact resistance."
      ]
    },
    {
      "cell_type": "code",
      "execution_count": 47,
      "metadata": {
        "id": "ZmbZDyCBzF26",
        "outputId": "11195a0a-c57f-41cd-dfe4-48b19c6f654f",
        "colab": {
          "base_uri": "https://localhost:8080/",
          "height": 464,
          "referenced_widgets": [
            "95de7cef202e456fbf4e71ef45f76abb",
            "1c27fe46cf4d4e31abd81cba09a4d8e7",
            "0e3163aabdfb45659b4509ce63f4cbe7",
            "ad99525d38334cf197ad9d545067fc3f",
            "293ddc2aeffe44888fe9e8cd66e5198d",
            "dfef2d28729a47a3a32027a2633f7605",
            "63eacb065e55412d961621d875ce55da"
          ]
        }
      },
      "outputs": [
        {
          "output_type": "display_data",
          "data": {
            "text/plain": [
              "interactive(children=(FloatSlider(value=0.0, description='t', max=1.0, step=0.01), Output()), _dom_classes=('w…"
            ],
            "application/vnd.jupyter.widget-view+json": {
              "version_major": 2,
              "version_minor": 0,
              "model_id": "95de7cef202e456fbf4e71ef45f76abb"
            }
          },
          "metadata": {}
        },
        {
          "output_type": "execute_result",
          "data": {
            "text/plain": [
              "<pybamm.plotting.quick_plot.QuickPlot at 0x7c3205f0a660>"
            ]
          },
          "metadata": {},
          "execution_count": 47
        }
      ],
      "source": [
        "output_variables = [\n",
        "    \"Voltage [V]\",\n",
        "    \"X-averaged cell temperature [K]\",\n",
        "    \"Cell temperature [K]\",\n",
        "]\n",
        "pybamm.dynamic_plot(sols, output_variables)"
      ]
    },
    {
      "cell_type": "markdown",
      "metadata": {
        "id": "2_7H1vGezF26"
      },
      "source": [
        "## References\n",
        "\n",
        "The relevant papers for this notebook are:"
      ]
    },
    {
      "cell_type": "code",
      "execution_count": 36,
      "metadata": {
        "id": "ibPoiYt1zF26",
        "outputId": "21d0e905-3ac6-47e9-d361-5bb5ed4aff22",
        "colab": {
          "base_uri": "https://localhost:8080/"
        }
      },
      "outputs": [
        {
          "output_type": "stream",
          "name": "stdout",
          "text": [
            "[1] Joel A. E. Andersson, Joris Gillis, Greg Horn, James B. Rawlings, and Moritz Diehl. CasADi – A software framework for nonlinear optimization and optimal control. Mathematical Programming Computation, 11(1):1–36, 2019. doi:10.1007/s12532-018-0139-4.\n",
            "[2] Von DAG Bruggeman. Berechnung verschiedener physikalischer konstanten von heterogenen substanzen. i. dielektrizitätskonstanten und leitfähigkeiten der mischkörper aus isotropen substanzen. Annalen der physik, 416(7):636–664, 1935.\n",
            "[3] Marc Doyle, Thomas F. Fuller, and John Newman. Modeling of galvanostatic charge and discharge of the lithium/polymer/insertion cell. Journal of the Electrochemical society, 140(6):1526–1533, 1993. doi:10.1149/1.2221597.\n",
            "[4] Charles R. Harris, K. Jarrod Millman, Stéfan J. van der Walt, Ralf Gommers, Pauli Virtanen, David Cournapeau, Eric Wieser, Julian Taylor, Sebastian Berg, Nathaniel J. Smith, and others. Array programming with NumPy. Nature, 585(7825):357–362, 2020. doi:10.1038/s41586-020-2649-2.\n",
            "[5] Alan C. Hindmarsh. The PVODE and IDA algorithms. Technical Report, Lawrence Livermore National Lab., CA (US), 2000. doi:10.2172/802599.\n",
            "[6] Alan C. Hindmarsh, Peter N. Brown, Keith E. Grant, Steven L. Lee, Radu Serban, Dan E. Shumaker, and Carol S. Woodward. SUNDIALS: Suite of nonlinear and differential/algebraic equation solvers. ACM Transactions on Mathematical Software (TOMS), 31(3):363–396, 2005. doi:10.1145/1089014.1089020.\n",
            "[7] Scott G. Marquis, Valentin Sulzer, Robert Timms, Colin P. Please, and S. Jon Chapman. An asymptotic derivation of a single particle model with electrolyte. Journal of The Electrochemical Society, 166(15):A3693–A3706, 2019. doi:10.1149/2.0341915jes.\n",
            "[8] Valentin Sulzer, Scott G. Marquis, Robert Timms, Martin Robinson, and S. Jon Chapman. Python Battery Mathematical Modelling (PyBaMM). Journal of Open Research Software, 9(1):14, 2021. doi:10.5334/jors.309.\n",
            "[9] Robert Timms, Scott G Marquis, Valentin Sulzer, Colin P. Please, and S Jonathan Chapman. Asymptotic Reduction of a Lithium-ion Pouch Cell Model. SIAM Journal on Applied Mathematics, 81(3):765–788, 2021. doi:10.1137/20M1336898.\n",
            "\n"
          ]
        }
      ],
      "source": [
        "pybamm.print_citations()"
      ]
    }
  ],
  "metadata": {
    "kernelspec": {
      "display_name": "venv",
      "language": "python",
      "name": "python3"
    },
    "language_info": {
      "codemirror_mode": {
        "name": "ipython",
        "version": 3
      },
      "file_extension": ".py",
      "mimetype": "text/x-python",
      "name": "python",
      "nbconvert_exporter": "python",
      "pygments_lexer": "ipython3",
      "version": "3.11.9"
    },
    "toc": {
      "base_numbering": 1,
      "nav_menu": {},
      "number_sections": true,
      "sideBar": true,
      "skip_h1_title": false,
      "title_cell": "Table of Contents",
      "title_sidebar": "Contents",
      "toc_cell": false,
      "toc_position": {},
      "toc_section_display": true,
      "toc_window_display": true
    },
    "vscode": {
      "interpreter": {
        "hash": "9ff3d0c7e37de5f5aa47f4f719e4c84fc6cba7b39c571a05173422444e82fa58"
      }
    },
    "colab": {
      "provenance": []
    },
    "widgets": {
      "application/vnd.jupyter.widget-state+json": {
        "b31799377ca247fcacae57bfc9df0cfd": {
          "model_module": "@jupyter-widgets/controls",
          "model_name": "VBoxModel",
          "model_module_version": "1.5.0",
          "state": {
            "_dom_classes": [
              "widget-interact"
            ],
            "_model_module": "@jupyter-widgets/controls",
            "_model_module_version": "1.5.0",
            "_model_name": "VBoxModel",
            "_view_count": null,
            "_view_module": "@jupyter-widgets/controls",
            "_view_module_version": "1.5.0",
            "_view_name": "VBoxView",
            "box_style": "",
            "children": [
              "IPY_MODEL_9b143dd986a0440193d7a8b283d8aa74",
              "IPY_MODEL_e335d08d2d9e4455893e1047cf288d6d"
            ],
            "layout": "IPY_MODEL_228ae4aa13ca48938b3bf130c5482186"
          }
        },
        "9b143dd986a0440193d7a8b283d8aa74": {
          "model_module": "@jupyter-widgets/controls",
          "model_name": "FloatSliderModel",
          "model_module_version": "1.5.0",
          "state": {
            "_dom_classes": [],
            "_model_module": "@jupyter-widgets/controls",
            "_model_module_version": "1.5.0",
            "_model_name": "FloatSliderModel",
            "_view_count": null,
            "_view_module": "@jupyter-widgets/controls",
            "_view_module_version": "1.5.0",
            "_view_name": "FloatSliderView",
            "continuous_update": true,
            "description": "t",
            "description_tooltip": null,
            "disabled": false,
            "layout": "IPY_MODEL_b0acf1dd82674bddbadd61fb9c7fb121",
            "max": 664.1787049633052,
            "min": 0,
            "orientation": "horizontal",
            "readout": true,
            "readout_format": ".2f",
            "step": 6.641787049633052,
            "style": "IPY_MODEL_29e9e75f995045c7b3162aeff469cf5a",
            "value": 0
          }
        },
        "e335d08d2d9e4455893e1047cf288d6d": {
          "model_module": "@jupyter-widgets/output",
          "model_name": "OutputModel",
          "model_module_version": "1.0.0",
          "state": {
            "_dom_classes": [],
            "_model_module": "@jupyter-widgets/output",
            "_model_module_version": "1.0.0",
            "_model_name": "OutputModel",
            "_view_count": null,
            "_view_module": "@jupyter-widgets/output",
            "_view_module_version": "1.0.0",
            "_view_name": "OutputView",
            "layout": "IPY_MODEL_159f4d3f6b9b409a93f3d48b28c9bd41",
            "msg_id": "",
            "outputs": [
              {
                "output_type": "display_data",
                "data": {
                  "text/plain": "<Figure size 1200x400 with 3 Axes>",
                  "image/png": "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\n"
                },
                "metadata": {}
              }
            ]
          }
        },
        "228ae4aa13ca48938b3bf130c5482186": {
          "model_module": "@jupyter-widgets/base",
          "model_name": "LayoutModel",
          "model_module_version": "1.2.0",
          "state": {
            "_model_module": "@jupyter-widgets/base",
            "_model_module_version": "1.2.0",
            "_model_name": "LayoutModel",
            "_view_count": null,
            "_view_module": "@jupyter-widgets/base",
            "_view_module_version": "1.2.0",
            "_view_name": "LayoutView",
            "align_content": null,
            "align_items": null,
            "align_self": null,
            "border": null,
            "bottom": null,
            "display": null,
            "flex": null,
            "flex_flow": null,
            "grid_area": null,
            "grid_auto_columns": null,
            "grid_auto_flow": null,
            "grid_auto_rows": null,
            "grid_column": null,
            "grid_gap": null,
            "grid_row": null,
            "grid_template_areas": null,
            "grid_template_columns": null,
            "grid_template_rows": null,
            "height": null,
            "justify_content": null,
            "justify_items": null,
            "left": null,
            "margin": null,
            "max_height": null,
            "max_width": null,
            "min_height": null,
            "min_width": null,
            "object_fit": null,
            "object_position": null,
            "order": null,
            "overflow": null,
            "overflow_x": null,
            "overflow_y": null,
            "padding": null,
            "right": null,
            "top": null,
            "visibility": null,
            "width": null
          }
        },
        "b0acf1dd82674bddbadd61fb9c7fb121": {
          "model_module": "@jupyter-widgets/base",
          "model_name": "LayoutModel",
          "model_module_version": "1.2.0",
          "state": {
            "_model_module": "@jupyter-widgets/base",
            "_model_module_version": "1.2.0",
            "_model_name": "LayoutModel",
            "_view_count": null,
            "_view_module": "@jupyter-widgets/base",
            "_view_module_version": "1.2.0",
            "_view_name": "LayoutView",
            "align_content": null,
            "align_items": null,
            "align_self": null,
            "border": null,
            "bottom": null,
            "display": null,
            "flex": null,
            "flex_flow": null,
            "grid_area": null,
            "grid_auto_columns": null,
            "grid_auto_flow": null,
            "grid_auto_rows": null,
            "grid_column": null,
            "grid_gap": null,
            "grid_row": null,
            "grid_template_areas": null,
            "grid_template_columns": null,
            "grid_template_rows": null,
            "height": null,
            "justify_content": null,
            "justify_items": null,
            "left": null,
            "margin": null,
            "max_height": null,
            "max_width": null,
            "min_height": null,
            "min_width": null,
            "object_fit": null,
            "object_position": null,
            "order": null,
            "overflow": null,
            "overflow_x": null,
            "overflow_y": null,
            "padding": null,
            "right": null,
            "top": null,
            "visibility": null,
            "width": null
          }
        },
        "29e9e75f995045c7b3162aeff469cf5a": {
          "model_module": "@jupyter-widgets/controls",
          "model_name": "SliderStyleModel",
          "model_module_version": "1.5.0",
          "state": {
            "_model_module": "@jupyter-widgets/controls",
            "_model_module_version": "1.5.0",
            "_model_name": "SliderStyleModel",
            "_view_count": null,
            "_view_module": "@jupyter-widgets/base",
            "_view_module_version": "1.2.0",
            "_view_name": "StyleView",
            "description_width": "",
            "handle_color": null
          }
        },
        "159f4d3f6b9b409a93f3d48b28c9bd41": {
          "model_module": "@jupyter-widgets/base",
          "model_name": "LayoutModel",
          "model_module_version": "1.2.0",
          "state": {
            "_model_module": "@jupyter-widgets/base",
            "_model_module_version": "1.2.0",
            "_model_name": "LayoutModel",
            "_view_count": null,
            "_view_module": "@jupyter-widgets/base",
            "_view_module_version": "1.2.0",
            "_view_name": "LayoutView",
            "align_content": null,
            "align_items": null,
            "align_self": null,
            "border": null,
            "bottom": null,
            "display": null,
            "flex": null,
            "flex_flow": null,
            "grid_area": null,
            "grid_auto_columns": null,
            "grid_auto_flow": null,
            "grid_auto_rows": null,
            "grid_column": null,
            "grid_gap": null,
            "grid_row": null,
            "grid_template_areas": null,
            "grid_template_columns": null,
            "grid_template_rows": null,
            "height": null,
            "justify_content": null,
            "justify_items": null,
            "left": null,
            "margin": null,
            "max_height": null,
            "max_width": null,
            "min_height": null,
            "min_width": null,
            "object_fit": null,
            "object_position": null,
            "order": null,
            "overflow": null,
            "overflow_x": null,
            "overflow_y": null,
            "padding": null,
            "right": null,
            "top": null,
            "visibility": null,
            "width": null
          }
        },
        "820020ff9fad4779a44d412992a5f949": {
          "model_module": "@jupyter-widgets/controls",
          "model_name": "VBoxModel",
          "model_module_version": "1.5.0",
          "state": {
            "_dom_classes": [
              "widget-interact"
            ],
            "_model_module": "@jupyter-widgets/controls",
            "_model_module_version": "1.5.0",
            "_model_name": "VBoxModel",
            "_view_count": null,
            "_view_module": "@jupyter-widgets/controls",
            "_view_module_version": "1.5.0",
            "_view_name": "VBoxView",
            "box_style": "",
            "children": [
              "IPY_MODEL_df6bb940ef9248f4a586dd142ac8e9fb",
              "IPY_MODEL_5a098b22561e4c15b8a16530241c843b"
            ],
            "layout": "IPY_MODEL_5e4d261cc9474771809545e99b5418c6"
          }
        },
        "df6bb940ef9248f4a586dd142ac8e9fb": {
          "model_module": "@jupyter-widgets/controls",
          "model_name": "FloatSliderModel",
          "model_module_version": "1.5.0",
          "state": {
            "_dom_classes": [],
            "_model_module": "@jupyter-widgets/controls",
            "_model_module_version": "1.5.0",
            "_model_name": "FloatSliderModel",
            "_view_count": null,
            "_view_module": "@jupyter-widgets/controls",
            "_view_module_version": "1.5.0",
            "_view_name": "FloatSliderView",
            "continuous_update": true,
            "description": "t",
            "description_tooltip": null,
            "disabled": false,
            "layout": "IPY_MODEL_82ac59318d4345d595f6de74140e0a26",
            "max": 664.1787049633052,
            "min": 0,
            "orientation": "horizontal",
            "readout": true,
            "readout_format": ".2f",
            "step": 6.641787049633052,
            "style": "IPY_MODEL_a528f615c8fd4897b8bdd8857ec8f0c3",
            "value": 0
          }
        },
        "5a098b22561e4c15b8a16530241c843b": {
          "model_module": "@jupyter-widgets/output",
          "model_name": "OutputModel",
          "model_module_version": "1.0.0",
          "state": {
            "_dom_classes": [],
            "_model_module": "@jupyter-widgets/output",
            "_model_module_version": "1.0.0",
            "_model_name": "OutputModel",
            "_view_count": null,
            "_view_module": "@jupyter-widgets/output",
            "_view_module_version": "1.0.0",
            "_view_name": "OutputView",
            "layout": "IPY_MODEL_8e891aacbf2f4f36bfd65ae5b40a87fc",
            "msg_id": "",
            "outputs": [
              {
                "output_type": "display_data",
                "data": {
                  "text/plain": "<Figure size 800x700 with 4 Axes>",
                  "image/png": "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\n"
                },
                "metadata": {}
              }
            ]
          }
        },
        "5e4d261cc9474771809545e99b5418c6": {
          "model_module": "@jupyter-widgets/base",
          "model_name": "LayoutModel",
          "model_module_version": "1.2.0",
          "state": {
            "_model_module": "@jupyter-widgets/base",
            "_model_module_version": "1.2.0",
            "_model_name": "LayoutModel",
            "_view_count": null,
            "_view_module": "@jupyter-widgets/base",
            "_view_module_version": "1.2.0",
            "_view_name": "LayoutView",
            "align_content": null,
            "align_items": null,
            "align_self": null,
            "border": null,
            "bottom": null,
            "display": null,
            "flex": null,
            "flex_flow": null,
            "grid_area": null,
            "grid_auto_columns": null,
            "grid_auto_flow": null,
            "grid_auto_rows": null,
            "grid_column": null,
            "grid_gap": null,
            "grid_row": null,
            "grid_template_areas": null,
            "grid_template_columns": null,
            "grid_template_rows": null,
            "height": null,
            "justify_content": null,
            "justify_items": null,
            "left": null,
            "margin": null,
            "max_height": null,
            "max_width": null,
            "min_height": null,
            "min_width": null,
            "object_fit": null,
            "object_position": null,
            "order": null,
            "overflow": null,
            "overflow_x": null,
            "overflow_y": null,
            "padding": null,
            "right": null,
            "top": null,
            "visibility": null,
            "width": null
          }
        },
        "82ac59318d4345d595f6de74140e0a26": {
          "model_module": "@jupyter-widgets/base",
          "model_name": "LayoutModel",
          "model_module_version": "1.2.0",
          "state": {
            "_model_module": "@jupyter-widgets/base",
            "_model_module_version": "1.2.0",
            "_model_name": "LayoutModel",
            "_view_count": null,
            "_view_module": "@jupyter-widgets/base",
            "_view_module_version": "1.2.0",
            "_view_name": "LayoutView",
            "align_content": null,
            "align_items": null,
            "align_self": null,
            "border": null,
            "bottom": null,
            "display": null,
            "flex": null,
            "flex_flow": null,
            "grid_area": null,
            "grid_auto_columns": null,
            "grid_auto_flow": null,
            "grid_auto_rows": null,
            "grid_column": null,
            "grid_gap": null,
            "grid_row": null,
            "grid_template_areas": null,
            "grid_template_columns": null,
            "grid_template_rows": null,
            "height": null,
            "justify_content": null,
            "justify_items": null,
            "left": null,
            "margin": null,
            "max_height": null,
            "max_width": null,
            "min_height": null,
            "min_width": null,
            "object_fit": null,
            "object_position": null,
            "order": null,
            "overflow": null,
            "overflow_x": null,
            "overflow_y": null,
            "padding": null,
            "right": null,
            "top": null,
            "visibility": null,
            "width": null
          }
        },
        "a528f615c8fd4897b8bdd8857ec8f0c3": {
          "model_module": "@jupyter-widgets/controls",
          "model_name": "SliderStyleModel",
          "model_module_version": "1.5.0",
          "state": {
            "_model_module": "@jupyter-widgets/controls",
            "_model_module_version": "1.5.0",
            "_model_name": "SliderStyleModel",
            "_view_count": null,
            "_view_module": "@jupyter-widgets/base",
            "_view_module_version": "1.2.0",
            "_view_name": "StyleView",
            "description_width": "",
            "handle_color": null
          }
        },
        "8e891aacbf2f4f36bfd65ae5b40a87fc": {
          "model_module": "@jupyter-widgets/base",
          "model_name": "LayoutModel",
          "model_module_version": "1.2.0",
          "state": {
            "_model_module": "@jupyter-widgets/base",
            "_model_module_version": "1.2.0",
            "_model_name": "LayoutModel",
            "_view_count": null,
            "_view_module": "@jupyter-widgets/base",
            "_view_module_version": "1.2.0",
            "_view_name": "LayoutView",
            "align_content": null,
            "align_items": null,
            "align_self": null,
            "border": null,
            "bottom": null,
            "display": null,
            "flex": null,
            "flex_flow": null,
            "grid_area": null,
            "grid_auto_columns": null,
            "grid_auto_flow": null,
            "grid_auto_rows": null,
            "grid_column": null,
            "grid_gap": null,
            "grid_row": null,
            "grid_template_areas": null,
            "grid_template_columns": null,
            "grid_template_rows": null,
            "height": null,
            "justify_content": null,
            "justify_items": null,
            "left": null,
            "margin": null,
            "max_height": null,
            "max_width": null,
            "min_height": null,
            "min_width": null,
            "object_fit": null,
            "object_position": null,
            "order": null,
            "overflow": null,
            "overflow_x": null,
            "overflow_y": null,
            "padding": null,
            "right": null,
            "top": null,
            "visibility": null,
            "width": null
          }
        },
        "95de7cef202e456fbf4e71ef45f76abb": {
          "model_module": "@jupyter-widgets/controls",
          "model_name": "VBoxModel",
          "model_module_version": "1.5.0",
          "state": {
            "_dom_classes": [
              "widget-interact"
            ],
            "_model_module": "@jupyter-widgets/controls",
            "_model_module_version": "1.5.0",
            "_model_name": "VBoxModel",
            "_view_count": null,
            "_view_module": "@jupyter-widgets/controls",
            "_view_module_version": "1.5.0",
            "_view_name": "VBoxView",
            "box_style": "",
            "children": [
              "IPY_MODEL_1c27fe46cf4d4e31abd81cba09a4d8e7",
              "IPY_MODEL_0e3163aabdfb45659b4509ce63f4cbe7"
            ],
            "layout": "IPY_MODEL_ad99525d38334cf197ad9d545067fc3f"
          }
        },
        "1c27fe46cf4d4e31abd81cba09a4d8e7": {
          "model_module": "@jupyter-widgets/controls",
          "model_name": "FloatSliderModel",
          "model_module_version": "1.5.0",
          "state": {
            "_dom_classes": [],
            "_model_module": "@jupyter-widgets/controls",
            "_model_module_version": "1.5.0",
            "_model_name": "FloatSliderModel",
            "_view_count": null,
            "_view_module": "@jupyter-widgets/controls",
            "_view_module_version": "1.5.0",
            "_view_name": "FloatSliderView",
            "continuous_update": true,
            "description": "t",
            "description_tooltip": null,
            "disabled": false,
            "layout": "IPY_MODEL_293ddc2aeffe44888fe9e8cd66e5198d",
            "max": 1,
            "min": 0,
            "orientation": "horizontal",
            "readout": true,
            "readout_format": ".2f",
            "step": 0.01,
            "style": "IPY_MODEL_dfef2d28729a47a3a32027a2633f7605",
            "value": 0
          }
        },
        "0e3163aabdfb45659b4509ce63f4cbe7": {
          "model_module": "@jupyter-widgets/output",
          "model_name": "OutputModel",
          "model_module_version": "1.0.0",
          "state": {
            "_dom_classes": [],
            "_model_module": "@jupyter-widgets/output",
            "_model_module_version": "1.0.0",
            "_model_name": "OutputModel",
            "_view_count": null,
            "_view_module": "@jupyter-widgets/output",
            "_view_module_version": "1.0.0",
            "_view_name": "OutputView",
            "layout": "IPY_MODEL_63eacb065e55412d961621d875ce55da",
            "msg_id": "",
            "outputs": [
              {
                "output_type": "display_data",
                "data": {
                  "text/plain": "<Figure size 1200x400 with 3 Axes>",
                  "image/png": "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\n"
                },
                "metadata": {}
              }
            ]
          }
        },
        "ad99525d38334cf197ad9d545067fc3f": {
          "model_module": "@jupyter-widgets/base",
          "model_name": "LayoutModel",
          "model_module_version": "1.2.0",
          "state": {
            "_model_module": "@jupyter-widgets/base",
            "_model_module_version": "1.2.0",
            "_model_name": "LayoutModel",
            "_view_count": null,
            "_view_module": "@jupyter-widgets/base",
            "_view_module_version": "1.2.0",
            "_view_name": "LayoutView",
            "align_content": null,
            "align_items": null,
            "align_self": null,
            "border": null,
            "bottom": null,
            "display": null,
            "flex": null,
            "flex_flow": null,
            "grid_area": null,
            "grid_auto_columns": null,
            "grid_auto_flow": null,
            "grid_auto_rows": null,
            "grid_column": null,
            "grid_gap": null,
            "grid_row": null,
            "grid_template_areas": null,
            "grid_template_columns": null,
            "grid_template_rows": null,
            "height": null,
            "justify_content": null,
            "justify_items": null,
            "left": null,
            "margin": null,
            "max_height": null,
            "max_width": null,
            "min_height": null,
            "min_width": null,
            "object_fit": null,
            "object_position": null,
            "order": null,
            "overflow": null,
            "overflow_x": null,
            "overflow_y": null,
            "padding": null,
            "right": null,
            "top": null,
            "visibility": null,
            "width": null
          }
        },
        "293ddc2aeffe44888fe9e8cd66e5198d": {
          "model_module": "@jupyter-widgets/base",
          "model_name": "LayoutModel",
          "model_module_version": "1.2.0",
          "state": {
            "_model_module": "@jupyter-widgets/base",
            "_model_module_version": "1.2.0",
            "_model_name": "LayoutModel",
            "_view_count": null,
            "_view_module": "@jupyter-widgets/base",
            "_view_module_version": "1.2.0",
            "_view_name": "LayoutView",
            "align_content": null,
            "align_items": null,
            "align_self": null,
            "border": null,
            "bottom": null,
            "display": null,
            "flex": null,
            "flex_flow": null,
            "grid_area": null,
            "grid_auto_columns": null,
            "grid_auto_flow": null,
            "grid_auto_rows": null,
            "grid_column": null,
            "grid_gap": null,
            "grid_row": null,
            "grid_template_areas": null,
            "grid_template_columns": null,
            "grid_template_rows": null,
            "height": null,
            "justify_content": null,
            "justify_items": null,
            "left": null,
            "margin": null,
            "max_height": null,
            "max_width": null,
            "min_height": null,
            "min_width": null,
            "object_fit": null,
            "object_position": null,
            "order": null,
            "overflow": null,
            "overflow_x": null,
            "overflow_y": null,
            "padding": null,
            "right": null,
            "top": null,
            "visibility": null,
            "width": null
          }
        },
        "dfef2d28729a47a3a32027a2633f7605": {
          "model_module": "@jupyter-widgets/controls",
          "model_name": "SliderStyleModel",
          "model_module_version": "1.5.0",
          "state": {
            "_model_module": "@jupyter-widgets/controls",
            "_model_module_version": "1.5.0",
            "_model_name": "SliderStyleModel",
            "_view_count": null,
            "_view_module": "@jupyter-widgets/base",
            "_view_module_version": "1.2.0",
            "_view_name": "StyleView",
            "description_width": "",
            "handle_color": null
          }
        },
        "63eacb065e55412d961621d875ce55da": {
          "model_module": "@jupyter-widgets/base",
          "model_name": "LayoutModel",
          "model_module_version": "1.2.0",
          "state": {
            "_model_module": "@jupyter-widgets/base",
            "_model_module_version": "1.2.0",
            "_model_name": "LayoutModel",
            "_view_count": null,
            "_view_module": "@jupyter-widgets/base",
            "_view_module_version": "1.2.0",
            "_view_name": "LayoutView",
            "align_content": null,
            "align_items": null,
            "align_self": null,
            "border": null,
            "bottom": null,
            "display": null,
            "flex": null,
            "flex_flow": null,
            "grid_area": null,
            "grid_auto_columns": null,
            "grid_auto_flow": null,
            "grid_auto_rows": null,
            "grid_column": null,
            "grid_gap": null,
            "grid_row": null,
            "grid_template_areas": null,
            "grid_template_columns": null,
            "grid_template_rows": null,
            "height": null,
            "justify_content": null,
            "justify_items": null,
            "left": null,
            "margin": null,
            "max_height": null,
            "max_width": null,
            "min_height": null,
            "min_width": null,
            "object_fit": null,
            "object_position": null,
            "order": null,
            "overflow": null,
            "overflow_x": null,
            "overflow_y": null,
            "padding": null,
            "right": null,
            "top": null,
            "visibility": null,
            "width": null
          }
        }
      }
    }
  },
  "nbformat": 4,
  "nbformat_minor": 0
}